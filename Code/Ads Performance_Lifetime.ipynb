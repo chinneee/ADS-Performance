{
 "cells": [
  {
   "cell_type": "markdown",
   "id": "ffde81fd",
   "metadata": {},
   "source": [
    "# SELLERBOARD"
   ]
  },
  {
   "cell_type": "markdown",
   "id": "50d5f44a",
   "metadata": {},
   "source": [
    "## US MARKET"
   ]
  },
  {
   "cell_type": "code",
   "execution_count": 2,
   "id": "d4f38bce",
   "metadata": {},
   "outputs": [],
   "source": [
    "import pandas as pd\n",
    "import os\n",
    "import sys\n",
    "import re\n",
    "\n",
    "import gspread\n",
    "from gspread_dataframe import set_with_dataframe\n",
    "from oauth2client.service_account import ServiceAccountCredentials\n",
    "from google.oauth2.service_account import Credentials"
   ]
  },
  {
   "cell_type": "code",
   "execution_count": 3,
   "id": "7c30ea70",
   "metadata": {},
   "outputs": [],
   "source": [
    "data_2024 = pd.read_excel('Lifecycle/NewEleven_US_05_2018.xlsx')\n",
    "\n",
    "scopes = [\"https://www.googleapis.com/auth/spreadsheets\", \n",
    "          \"https://www.googleapis.com/auth/drive\"]\n",
    "creds = Credentials.from_service_account_file(\"/Users/ppcintern/Desktop/Keyword_Analysis/new_credential.json\", scopes=scopes)\n",
    "client = gspread.authorize(creds)\n",
    "\n",
    "# Mở Google Sheet\n",
    "sheet_id = \"1p3JWtN9HH1HxvARmx34Tmbt2iAjoYhK9fWIHgQr4PDE\"\n",
    "\n",
    "# Mở file Google Sheet (Spreadsheet object)\n",
    "spreadsheet = client.open_by_key(sheet_id)\n",
    "sheet1 = client.open_by_key(sheet_id).worksheet(\"Lifetime_US\")\n",
    "\n",
    "set_with_dataframe(sheet1, data_2024)"
   ]
  },
  {
   "cell_type": "markdown",
   "id": "049abbd4",
   "metadata": {},
   "source": [
    "## CA MARKET"
   ]
  },
  {
   "cell_type": "code",
   "execution_count": 4,
   "id": "5b154e1d",
   "metadata": {},
   "outputs": [],
   "source": [
    "import pandas as pd\n",
    "import os\n",
    "import sys\n",
    "import re\n",
    "\n",
    "import gspread\n",
    "from gspread_dataframe import set_with_dataframe\n",
    "from oauth2client.service_account import ServiceAccountCredentials\n",
    "from google.oauth2.service_account import Credentials"
   ]
  },
  {
   "cell_type": "code",
   "execution_count": 5,
   "id": "60bcecb6",
   "metadata": {},
   "outputs": [],
   "source": [
    "data_2024 = pd.read_excel('Lifecycle/NewEleven_CA_02_2020.xlsx')\n",
    "\n",
    "scopes = [\"https://www.googleapis.com/auth/spreadsheets\", \n",
    "          \"https://www.googleapis.com/auth/drive\"]\n",
    "creds = Credentials.from_service_account_file(\"/Users/ppcintern/Desktop/Keyword_Analysis/new_credential.json\", scopes=scopes)\n",
    "client = gspread.authorize(creds)\n",
    "\n",
    "# Mở Google Sheet\n",
    "sheet_id = \"1p3JWtN9HH1HxvARmx34Tmbt2iAjoYhK9fWIHgQr4PDE\"\n",
    "\n",
    "# Mở file Google Sheet (Spreadsheet object)\n",
    "spreadsheet = client.open_by_key(sheet_id)\n",
    "sheet1 = client.open_by_key(sheet_id).worksheet(\"Lifetime_CA\")\n",
    "\n",
    "set_with_dataframe(sheet1, data_2024)"
   ]
  },
  {
   "cell_type": "markdown",
   "id": "e4dac1e1",
   "metadata": {},
   "source": [
    "## UK MARKET"
   ]
  },
  {
   "cell_type": "code",
   "execution_count": 6,
   "id": "05b425cd",
   "metadata": {},
   "outputs": [],
   "source": [
    "import pandas as pd\n",
    "import os\n",
    "import sys\n",
    "import re\n",
    "\n",
    "import gspread\n",
    "from gspread_dataframe import set_with_dataframe\n",
    "from oauth2client.service_account import ServiceAccountCredentials\n",
    "from google.oauth2.service_account import Credentials"
   ]
  },
  {
   "cell_type": "code",
   "execution_count": 7,
   "id": "7b503803",
   "metadata": {},
   "outputs": [],
   "source": [
    "data_2024 = pd.read_excel('Lifecycle/NewEleven_UK_01_2021.xlsx')\n",
    "\n",
    "scopes = [\"https://www.googleapis.com/auth/spreadsheets\", \n",
    "          \"https://www.googleapis.com/auth/drive\"]\n",
    "creds = Credentials.from_service_account_file(\"/Users/ppcintern/Desktop/Keyword_Analysis/new_credential.json\", scopes=scopes)\n",
    "client = gspread.authorize(creds)\n",
    "\n",
    "# Mở Google Sheet\n",
    "sheet_id = \"1p3JWtN9HH1HxvARmx34Tmbt2iAjoYhK9fWIHgQr4PDE\"\n",
    "\n",
    "# Mở file Google Sheet (Spreadsheet object)\n",
    "spreadsheet = client.open_by_key(sheet_id)\n",
    "sheet1 = client.open_by_key(sheet_id).worksheet(\"Lifetime_UK\")\n",
    "\n",
    "set_with_dataframe(sheet1, data_2024)"
   ]
  },
  {
   "cell_type": "markdown",
   "id": "10008f2a",
   "metadata": {},
   "source": [
    "# BRAND ANALYTICS"
   ]
  },
  {
   "cell_type": "code",
   "execution_count": 8,
   "id": "cab0b8a5",
   "metadata": {},
   "outputs": [],
   "source": [
    "import pandas as pd\n",
    "import os\n",
    "import sys\n",
    "import re\n",
    "\n",
    "import gspread\n",
    "from gspread_dataframe import set_with_dataframe\n",
    "from oauth2client.service_account import ServiceAccountCredentials\n",
    "from google.oauth2.service_account import Credentials"
   ]
  },
  {
   "cell_type": "code",
   "execution_count": null,
   "id": "a59ad5ec",
   "metadata": {},
   "outputs": [],
   "source": []
  }
 ],
 "metadata": {
  "kernelspec": {
   "display_name": "Python 3",
   "language": "python",
   "name": "python3"
  },
  "language_info": {
   "codemirror_mode": {
    "name": "ipython",
    "version": 3
   },
   "file_extension": ".py",
   "mimetype": "text/x-python",
   "name": "python",
   "nbconvert_exporter": "python",
   "pygments_lexer": "ipython3",
   "version": "3.13.2"
  }
 },
 "nbformat": 4,
 "nbformat_minor": 5
}
